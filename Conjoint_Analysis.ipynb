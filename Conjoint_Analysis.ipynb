{
 "cells": [
  {
   "cell_type": "markdown",
   "metadata": {},
   "source": [
    "# Conjoint Analysis with a Linear Model\n"
   ]
  },
  {
   "cell_type": "markdown",
   "metadata": {},
   "source": [
    "## Data Information\n",
    "With the 2024 season coming this summer, Lobster Land is considering the addition of a new ride in the park.  Specifically, Lobster Land is thinking about whether to add a wooden roller coaster, whose track could encircle the other rides currently operating within the park. A wooden roller coaster, sometimes called a \"woodie\" is an older type of ride that has regained popularity among roller coaster enthusiasts in recent years.  \n",
    "\n",
    "To gather more information before moving ahead, the park conducted some survey research.  They asked a general sample of the population near Portland, Maine about their preferences for wooden roller coasters.  Each survey respondent saw a random sample of 5 possible options, or bundles, and was asked to rate those bundles from 1-10.  By giving this survey to many thousands of people, Lobster Land was able to generate this dataset. "
   ]
  },
  {
   "cell_type": "markdown",
   "metadata": {
    "id": "4l5joWZoxmeb"
   },
   "source": [
    "### Dataset Description:\n",
    "\n",
    "|Variable|Description|\n",
    "| :- | :- |\n",
    "|**bundleID**|This is a series of sequential integers from 1 to 288.|\n",
    "|**start_high**|The options here are either \"Yes\" or \"No.\"  A \"Yes\" option refers to a roller coaster whose riders begin the ride at a high altitude, so that the first drop can occur without a preceding slow climb upward.  A \"No\" option refers to a more traditional roller coaster, which starts at a low level, and undergoes a slow climb, before making its big drop.|\n",
    "|**maxspeed**|Users had three options for maxspeed, which is the maximum speed in miles per hour (mph) reached by the roller coaster during the ride.  The options were 40mph, 60mph, and 80mph.|\n",
    "|**steepest_angle**|The two options here are either 50 or 75.  This refers to the number of degrees associated with the steepest drop on the ride.  To get a sense of how steep a 75-degree drop is, you may want to do a Google image search.|\n",
    "|**seats_car**|The roller coaster designers have indicated that each \"car\" can be constructed with either two seats or four seats.|\n",
    "|**drop**|This is the size of the largest vertical drop during the ride.  Options were 100 feet, 200 feet, or 300 feet.|\n",
    "|**track_color**|The four options that survey respondents saw here were green, blue, white, and red.|\n",
    "|**avg_rating**|This is the average rating that the bundle received, on a score from 0 to 10.|"
   ]
  },
  {
   "cell_type": "code",
   "execution_count": null,
   "metadata": {},
   "outputs": [],
   "source": []
  },
  {
   "cell_type": "markdown",
   "metadata": {},
   "source": [
    "## Libraries"
   ]
  },
  {
   "cell_type": "code",
   "execution_count": 1,
   "metadata": {},
   "outputs": [],
   "source": [
    "import pandas as pd\n",
    "import matplotlib.pyplot as plt\n",
    "import seaborn as sns\n",
    "import matplotlib.patches as mpatches\n",
    "from sklearn.preprocessing import StandardScaler\n",
    "from sklearn.cluster import KMeans"
   ]
  },
  {
   "cell_type": "code",
   "execution_count": null,
   "metadata": {},
   "outputs": [],
   "source": []
  },
  {
   "cell_type": "markdown",
   "metadata": {},
   "source": [
    "## - Reading the data"
   ]
  },
  {
   "cell_type": "code",
   "execution_count": 2,
   "metadata": {},
   "outputs": [
    {
     "data": {
      "text/html": [
       "<div>\n",
       "<style scoped>\n",
       "    .dataframe tbody tr th:only-of-type {\n",
       "        vertical-align: middle;\n",
       "    }\n",
       "\n",
       "    .dataframe tbody tr th {\n",
       "        vertical-align: top;\n",
       "    }\n",
       "\n",
       "    .dataframe thead th {\n",
       "        text-align: right;\n",
       "    }\n",
       "</style>\n",
       "<table border=\"1\" class=\"dataframe\">\n",
       "  <thead>\n",
       "    <tr style=\"text-align: right;\">\n",
       "      <th></th>\n",
       "      <th>bundleID</th>\n",
       "      <th>start_high</th>\n",
       "      <th>maxspeed</th>\n",
       "      <th>steepest_angle</th>\n",
       "      <th>seats_car</th>\n",
       "      <th>drop</th>\n",
       "      <th>track_color</th>\n",
       "      <th>avg_rating</th>\n",
       "    </tr>\n",
       "  </thead>\n",
       "  <tbody>\n",
       "    <tr>\n",
       "      <th>0</th>\n",
       "      <td>1</td>\n",
       "      <td>Yes</td>\n",
       "      <td>40</td>\n",
       "      <td>50</td>\n",
       "      <td>2</td>\n",
       "      <td>100</td>\n",
       "      <td>red</td>\n",
       "      <td>7.613468</td>\n",
       "    </tr>\n",
       "    <tr>\n",
       "      <th>1</th>\n",
       "      <td>2</td>\n",
       "      <td>Yes</td>\n",
       "      <td>40</td>\n",
       "      <td>50</td>\n",
       "      <td>2</td>\n",
       "      <td>100</td>\n",
       "      <td>blue</td>\n",
       "      <td>5.266737</td>\n",
       "    </tr>\n",
       "    <tr>\n",
       "      <th>2</th>\n",
       "      <td>3</td>\n",
       "      <td>Yes</td>\n",
       "      <td>40</td>\n",
       "      <td>50</td>\n",
       "      <td>2</td>\n",
       "      <td>100</td>\n",
       "      <td>green</td>\n",
       "      <td>4.871951</td>\n",
       "    </tr>\n",
       "    <tr>\n",
       "      <th>3</th>\n",
       "      <td>4</td>\n",
       "      <td>Yes</td>\n",
       "      <td>40</td>\n",
       "      <td>50</td>\n",
       "      <td>2</td>\n",
       "      <td>100</td>\n",
       "      <td>white</td>\n",
       "      <td>4.453202</td>\n",
       "    </tr>\n",
       "    <tr>\n",
       "      <th>4</th>\n",
       "      <td>5</td>\n",
       "      <td>Yes</td>\n",
       "      <td>40</td>\n",
       "      <td>50</td>\n",
       "      <td>2</td>\n",
       "      <td>200</td>\n",
       "      <td>red</td>\n",
       "      <td>5.476815</td>\n",
       "    </tr>\n",
       "    <tr>\n",
       "      <th>...</th>\n",
       "      <td>...</td>\n",
       "      <td>...</td>\n",
       "      <td>...</td>\n",
       "      <td>...</td>\n",
       "      <td>...</td>\n",
       "      <td>...</td>\n",
       "      <td>...</td>\n",
       "      <td>...</td>\n",
       "    </tr>\n",
       "    <tr>\n",
       "      <th>283</th>\n",
       "      <td>284</td>\n",
       "      <td>No</td>\n",
       "      <td>80</td>\n",
       "      <td>75</td>\n",
       "      <td>4</td>\n",
       "      <td>200</td>\n",
       "      <td>white</td>\n",
       "      <td>7.945668</td>\n",
       "    </tr>\n",
       "    <tr>\n",
       "      <th>284</th>\n",
       "      <td>285</td>\n",
       "      <td>No</td>\n",
       "      <td>80</td>\n",
       "      <td>75</td>\n",
       "      <td>4</td>\n",
       "      <td>300</td>\n",
       "      <td>red</td>\n",
       "      <td>6.428464</td>\n",
       "    </tr>\n",
       "    <tr>\n",
       "      <th>285</th>\n",
       "      <td>286</td>\n",
       "      <td>No</td>\n",
       "      <td>80</td>\n",
       "      <td>75</td>\n",
       "      <td>4</td>\n",
       "      <td>300</td>\n",
       "      <td>blue</td>\n",
       "      <td>5.458812</td>\n",
       "    </tr>\n",
       "    <tr>\n",
       "      <th>286</th>\n",
       "      <td>287</td>\n",
       "      <td>No</td>\n",
       "      <td>80</td>\n",
       "      <td>75</td>\n",
       "      <td>4</td>\n",
       "      <td>300</td>\n",
       "      <td>green</td>\n",
       "      <td>5.775802</td>\n",
       "    </tr>\n",
       "    <tr>\n",
       "      <th>287</th>\n",
       "      <td>288</td>\n",
       "      <td>No</td>\n",
       "      <td>80</td>\n",
       "      <td>75</td>\n",
       "      <td>4</td>\n",
       "      <td>300</td>\n",
       "      <td>white</td>\n",
       "      <td>6.666514</td>\n",
       "    </tr>\n",
       "  </tbody>\n",
       "</table>\n",
       "<p>288 rows × 8 columns</p>\n",
       "</div>"
      ],
      "text/plain": [
       "     bundleID start_high  maxspeed  steepest_angle  seats_car  drop  \\\n",
       "0           1        Yes        40              50          2   100   \n",
       "1           2        Yes        40              50          2   100   \n",
       "2           3        Yes        40              50          2   100   \n",
       "3           4        Yes        40              50          2   100   \n",
       "4           5        Yes        40              50          2   200   \n",
       "..        ...        ...       ...             ...        ...   ...   \n",
       "283       284         No        80              75          4   200   \n",
       "284       285         No        80              75          4   300   \n",
       "285       286         No        80              75          4   300   \n",
       "286       287         No        80              75          4   300   \n",
       "287       288         No        80              75          4   300   \n",
       "\n",
       "    track_color  avg_rating  \n",
       "0           red    7.613468  \n",
       "1          blue    5.266737  \n",
       "2         green    4.871951  \n",
       "3         white    4.453202  \n",
       "4           red    5.476815  \n",
       "..          ...         ...  \n",
       "283       white    7.945668  \n",
       "284         red    6.428464  \n",
       "285        blue    5.458812  \n",
       "286       green    5.775802  \n",
       "287       white    6.666514  \n",
       "\n",
       "[288 rows x 8 columns]"
      ]
     },
     "execution_count": 2,
     "metadata": {},
     "output_type": "execute_result"
    }
   ],
   "source": [
    "df = pd.read_csv(r\"woodie.csv\")\n",
    "df"
   ]
  },
  {
   "cell_type": "code",
   "execution_count": null,
   "metadata": {},
   "outputs": [],
   "source": []
  },
  {
   "cell_type": "markdown",
   "metadata": {},
   "source": [
    "## - Data shape"
   ]
  },
  {
   "cell_type": "code",
   "execution_count": 3,
   "metadata": {},
   "outputs": [
    {
     "data": {
      "text/plain": [
       "(288, 8)"
      ]
     },
     "execution_count": 3,
     "metadata": {},
     "output_type": "execute_result"
    }
   ],
   "source": [
    "df.shape"
   ]
  },
  {
   "cell_type": "markdown",
   "metadata": {},
   "source": [
    "<b>RESULT:</b>\n",
    "There are 288 records and 8 variables."
   ]
  },
  {
   "cell_type": "code",
   "execution_count": null,
   "metadata": {},
   "outputs": [],
   "source": []
  },
  {
   "cell_type": "markdown",
   "metadata": {},
   "source": [
    "## - Missing Values"
   ]
  },
  {
   "cell_type": "code",
   "execution_count": 4,
   "metadata": {},
   "outputs": [
    {
     "data": {
      "text/plain": [
       "bundleID          0\n",
       "start_high        0\n",
       "maxspeed          0\n",
       "steepest_angle    0\n",
       "seats_car         0\n",
       "drop              0\n",
       "track_color       0\n",
       "avg_rating        0\n",
       "dtype: int64"
      ]
     },
     "execution_count": 4,
     "metadata": {},
     "output_type": "execute_result"
    }
   ],
   "source": [
    "df.isnull().sum()"
   ]
  },
  {
   "cell_type": "code",
   "execution_count": 5,
   "metadata": {},
   "outputs": [
    {
     "data": {
      "text/plain": [
       "bundleID          0\n",
       "start_high        0\n",
       "maxspeed          0\n",
       "steepest_angle    0\n",
       "seats_car         0\n",
       "drop              0\n",
       "track_color       0\n",
       "avg_rating        0\n",
       "dtype: int64"
      ]
     },
     "execution_count": 5,
     "metadata": {},
     "output_type": "execute_result"
    }
   ],
   "source": [
    "df.isna().sum()"
   ]
  },
  {
   "cell_type": "markdown",
   "metadata": {},
   "source": [
    "<strong>RESULT</strong><br>\n",
    "There is no missing value."
   ]
  },
  {
   "cell_type": "code",
   "execution_count": null,
   "metadata": {},
   "outputs": [],
   "source": []
  },
  {
   "cell_type": "markdown",
   "metadata": {},
   "source": [
    "## - Data Types"
   ]
  },
  {
   "cell_type": "code",
   "execution_count": 6,
   "metadata": {},
   "outputs": [
    {
     "name": "stdout",
     "output_type": "stream",
     "text": [
      "<class 'pandas.core.frame.DataFrame'>\n",
      "RangeIndex: 288 entries, 0 to 287\n",
      "Data columns (total 8 columns):\n",
      " #   Column          Non-Null Count  Dtype  \n",
      "---  ------          --------------  -----  \n",
      " 0   bundleID        288 non-null    int64  \n",
      " 1   start_high      288 non-null    object \n",
      " 2   maxspeed        288 non-null    int64  \n",
      " 3   steepest_angle  288 non-null    int64  \n",
      " 4   seats_car       288 non-null    int64  \n",
      " 5   drop            288 non-null    int64  \n",
      " 6   track_color     288 non-null    object \n",
      " 7   avg_rating      288 non-null    float64\n",
      "dtypes: float64(1), int64(5), object(2)\n",
      "memory usage: 18.1+ KB\n"
     ]
    }
   ],
   "source": [
    "df.info()"
   ]
  },
  {
   "cell_type": "code",
   "execution_count": 7,
   "metadata": {},
   "outputs": [
    {
     "name": "stdout",
     "output_type": "stream",
     "text": [
      "Categorical Variables:\n",
      "['start_high', 'track_color']\n",
      "\n",
      "Numeric Variables:\n",
      "['bundleID', 'maxspeed', 'steepest_angle', 'seats_car', 'drop', 'avg_rating']\n"
     ]
    }
   ],
   "source": [
    "# Define the list of categorical variables\n",
    "categorical_variables = ['start_high', 'track_color']\n",
    "\n",
    "# Define the list of numeric variables\n",
    "numeric_variables = ['bundleID','maxspeed', 'steepest_angle', 'seats_car','drop', 'avg_rating']\n",
    "\n",
    "# Check the updated data types\n",
    "print(\"Categorical Variables:\")\n",
    "print(categorical_variables)\n",
    "print(\"\\nNumeric Variables:\")\n",
    "print(numeric_variables)"
   ]
  },
  {
   "cell_type": "code",
   "execution_count": null,
   "metadata": {},
   "outputs": [],
   "source": []
  },
  {
   "cell_type": "markdown",
   "metadata": {},
   "source": [
    "## - Drop Column\n",
    "The <strong>bundleID</strong> is a unique categorical variable in the dataset. There is no need to add that variable for our analysis."
   ]
  },
  {
   "cell_type": "code",
   "execution_count": 8,
   "metadata": {},
   "outputs": [
    {
     "data": {
      "text/plain": [
       "Index(['start_high', 'maxspeed', 'steepest_angle', 'seats_car', 'drop',\n",
       "       'track_color', 'avg_rating'],\n",
       "      dtype='object')"
      ]
     },
     "execution_count": 8,
     "metadata": {},
     "output_type": "execute_result"
    }
   ],
   "source": [
    "df.drop(df.columns[0], axis=1, inplace=True)\n",
    "df.columns"
   ]
  },
  {
   "cell_type": "code",
   "execution_count": 9,
   "metadata": {},
   "outputs": [
    {
     "name": "stdout",
     "output_type": "stream",
     "text": [
      "<class 'pandas.core.frame.DataFrame'>\n",
      "RangeIndex: 288 entries, 0 to 287\n",
      "Data columns (total 7 columns):\n",
      " #   Column          Non-Null Count  Dtype  \n",
      "---  ------          --------------  -----  \n",
      " 0   start_high      288 non-null    object \n",
      " 1   maxspeed        288 non-null    int64  \n",
      " 2   steepest_angle  288 non-null    int64  \n",
      " 3   seats_car       288 non-null    int64  \n",
      " 4   drop            288 non-null    int64  \n",
      " 5   track_color     288 non-null    object \n",
      " 6   avg_rating      288 non-null    float64\n",
      "dtypes: float64(1), int64(4), object(2)\n",
      "memory usage: 15.9+ KB\n"
     ]
    }
   ],
   "source": [
    "df.info()"
   ]
  },
  {
   "cell_type": "markdown",
   "metadata": {},
   "source": [
    "<strong>RESULT:</strong><br>\n",
    "There are 2 reasons:<br>\n",
    "1: If we try to exam our data or try to visualize our data, it will show as continuous range.<br>\n",
    "-Because this data includes survey (specific range such as 1 to 10), so we should see them as discrete numbers.<br>\n",
    "2: By dummifying the numeric inputs, we created separate categories for each option  Food trucks not open often which can reveal preferences for non-linear relationships.<br>\n",
    "(We can see all option not only min and max level inside the survey range.)"
   ]
  },
  {
   "cell_type": "markdown",
   "metadata": {},
   "source": [
    "D.\t Build a linear model with your data, using the average rating as the outcome variable, and with all of your other variables as inputs."
   ]
  },
  {
   "cell_type": "markdown",
   "metadata": {},
   "source": [
    "## - Conver to Dummy Variable\n",
    "Categorical or looks numerical but represent categorical variables like our example (survey data range 1 to 10) can be converted to <b>Dummy Variable.(known as one-hot encoding),</b>which means it creates separate binary columns for each category in a variable.<br>\n",
    "Each column represents whether a particular observation belongs to that category (1 for yes, 0 for no).<br><br>\n",
    "`drop_first = True`. will save us from the multicollinearity problem that would make our model unreliable."
   ]
  },
  {
   "cell_type": "code",
   "execution_count": 10,
   "metadata": {},
   "outputs": [
    {
     "data": {
      "text/plain": [
       "Index(['avg_rating', 'start_high_Yes', 'maxspeed_60', 'maxspeed_80',\n",
       "       'steepest_angle_75', 'seats_car_4', 'drop_200', 'drop_300',\n",
       "       'track_color_green', 'track_color_red', 'track_color_white'],\n",
       "      dtype='object')"
      ]
     },
     "execution_count": 10,
     "metadata": {},
     "output_type": "execute_result"
    }
   ],
   "source": [
    "df_dummies = pd.get_dummies(df, drop_first=True, columns = ['start_high', 'maxspeed', 'steepest_angle', 'seats_car', 'drop',\n",
    "       'track_color'])\n",
    "df_dummies.columns"
   ]
  },
  {
   "cell_type": "code",
   "execution_count": 11,
   "metadata": {},
   "outputs": [
    {
     "name": "stdout",
     "output_type": "stream",
     "text": [
      "<class 'pandas.core.frame.DataFrame'>\n",
      "RangeIndex: 288 entries, 0 to 287\n",
      "Data columns (total 11 columns):\n",
      " #   Column             Non-Null Count  Dtype  \n",
      "---  ------             --------------  -----  \n",
      " 0   avg_rating         288 non-null    float64\n",
      " 1   start_high_Yes     288 non-null    bool   \n",
      " 2   maxspeed_60        288 non-null    bool   \n",
      " 3   maxspeed_80        288 non-null    bool   \n",
      " 4   steepest_angle_75  288 non-null    bool   \n",
      " 5   seats_car_4        288 non-null    bool   \n",
      " 6   drop_200           288 non-null    bool   \n",
      " 7   drop_300           288 non-null    bool   \n",
      " 8   track_color_green  288 non-null    bool   \n",
      " 9   track_color_red    288 non-null    bool   \n",
      " 10  track_color_white  288 non-null    bool   \n",
      "dtypes: bool(10), float64(1)\n",
      "memory usage: 5.2 KB\n"
     ]
    }
   ],
   "source": [
    "df_dummies.info()"
   ]
  },
  {
   "cell_type": "code",
   "execution_count": null,
   "metadata": {},
   "outputs": [],
   "source": []
  },
  {
   "cell_type": "markdown",
   "metadata": {},
   "source": [
    "### <b>NOTE: Data Type: Bool vs Numeric</b>\n",
    "While bool is technically compatible with many machine learning models (because True is treated as 1 and False as 0), some libraries, such as statsmodels, may require explicit numeric types (int or float) for regression.\n",
    "\n",
    "For our linear model, we need to explicitly turn them to numeric."
   ]
  },
  {
   "cell_type": "code",
   "execution_count": 12,
   "metadata": {},
   "outputs": [],
   "source": [
    "# Convert all boolean columns to integers\n",
    "df_dummies = df_dummies.astype(int)"
   ]
  },
  {
   "cell_type": "markdown",
   "metadata": {},
   "source": [
    "## - Linear Model"
   ]
  },
  {
   "cell_type": "code",
   "execution_count": 13,
   "metadata": {},
   "outputs": [
    {
     "data": {
      "text/html": [
       "<style>#sk-container-id-1 {color: black;}#sk-container-id-1 pre{padding: 0;}#sk-container-id-1 div.sk-toggleable {background-color: white;}#sk-container-id-1 label.sk-toggleable__label {cursor: pointer;display: block;width: 100%;margin-bottom: 0;padding: 0.3em;box-sizing: border-box;text-align: center;}#sk-container-id-1 label.sk-toggleable__label-arrow:before {content: \"▸\";float: left;margin-right: 0.25em;color: #696969;}#sk-container-id-1 label.sk-toggleable__label-arrow:hover:before {color: black;}#sk-container-id-1 div.sk-estimator:hover label.sk-toggleable__label-arrow:before {color: black;}#sk-container-id-1 div.sk-toggleable__content {max-height: 0;max-width: 0;overflow: hidden;text-align: left;background-color: #f0f8ff;}#sk-container-id-1 div.sk-toggleable__content pre {margin: 0.2em;color: black;border-radius: 0.25em;background-color: #f0f8ff;}#sk-container-id-1 input.sk-toggleable__control:checked~div.sk-toggleable__content {max-height: 200px;max-width: 100%;overflow: auto;}#sk-container-id-1 input.sk-toggleable__control:checked~label.sk-toggleable__label-arrow:before {content: \"▾\";}#sk-container-id-1 div.sk-estimator input.sk-toggleable__control:checked~label.sk-toggleable__label {background-color: #d4ebff;}#sk-container-id-1 div.sk-label input.sk-toggleable__control:checked~label.sk-toggleable__label {background-color: #d4ebff;}#sk-container-id-1 input.sk-hidden--visually {border: 0;clip: rect(1px 1px 1px 1px);clip: rect(1px, 1px, 1px, 1px);height: 1px;margin: -1px;overflow: hidden;padding: 0;position: absolute;width: 1px;}#sk-container-id-1 div.sk-estimator {font-family: monospace;background-color: #f0f8ff;border: 1px dotted black;border-radius: 0.25em;box-sizing: border-box;margin-bottom: 0.5em;}#sk-container-id-1 div.sk-estimator:hover {background-color: #d4ebff;}#sk-container-id-1 div.sk-parallel-item::after {content: \"\";width: 100%;border-bottom: 1px solid gray;flex-grow: 1;}#sk-container-id-1 div.sk-label:hover label.sk-toggleable__label {background-color: #d4ebff;}#sk-container-id-1 div.sk-serial::before {content: \"\";position: absolute;border-left: 1px solid gray;box-sizing: border-box;top: 0;bottom: 0;left: 50%;z-index: 0;}#sk-container-id-1 div.sk-serial {display: flex;flex-direction: column;align-items: center;background-color: white;padding-right: 0.2em;padding-left: 0.2em;position: relative;}#sk-container-id-1 div.sk-item {position: relative;z-index: 1;}#sk-container-id-1 div.sk-parallel {display: flex;align-items: stretch;justify-content: center;background-color: white;position: relative;}#sk-container-id-1 div.sk-item::before, #sk-container-id-1 div.sk-parallel-item::before {content: \"\";position: absolute;border-left: 1px solid gray;box-sizing: border-box;top: 0;bottom: 0;left: 50%;z-index: -1;}#sk-container-id-1 div.sk-parallel-item {display: flex;flex-direction: column;z-index: 1;position: relative;background-color: white;}#sk-container-id-1 div.sk-parallel-item:first-child::after {align-self: flex-end;width: 50%;}#sk-container-id-1 div.sk-parallel-item:last-child::after {align-self: flex-start;width: 50%;}#sk-container-id-1 div.sk-parallel-item:only-child::after {width: 0;}#sk-container-id-1 div.sk-dashed-wrapped {border: 1px dashed gray;margin: 0 0.4em 0.5em 0.4em;box-sizing: border-box;padding-bottom: 0.4em;background-color: white;}#sk-container-id-1 div.sk-label label {font-family: monospace;font-weight: bold;display: inline-block;line-height: 1.2em;}#sk-container-id-1 div.sk-label-container {text-align: center;}#sk-container-id-1 div.sk-container {/* jupyter's `normalize.less` sets `[hidden] { display: none; }` but bootstrap.min.css set `[hidden] { display: none !important; }` so we also need the `!important` here to be able to override the default hidden behavior on the sphinx rendered scikit-learn.org. See: https://github.com/scikit-learn/scikit-learn/issues/21755 */display: inline-block !important;position: relative;}#sk-container-id-1 div.sk-text-repr-fallback {display: none;}</style><div id=\"sk-container-id-1\" class=\"sk-top-container\"><div class=\"sk-text-repr-fallback\"><pre>LinearRegression()</pre><b>In a Jupyter environment, please rerun this cell to show the HTML representation or trust the notebook. <br />On GitHub, the HTML representation is unable to render, please try loading this page with nbviewer.org.</b></div><div class=\"sk-container\" hidden><div class=\"sk-item\"><div class=\"sk-estimator sk-toggleable\"><input class=\"sk-toggleable__control sk-hidden--visually\" id=\"sk-estimator-id-1\" type=\"checkbox\" checked><label for=\"sk-estimator-id-1\" class=\"sk-toggleable__label sk-toggleable__label-arrow\">LinearRegression</label><div class=\"sk-toggleable__content\"><pre>LinearRegression()</pre></div></div></div></div></div>"
      ],
      "text/plain": [
       "LinearRegression()"
      ]
     },
     "execution_count": 13,
     "metadata": {},
     "output_type": "execute_result"
    }
   ],
   "source": [
    "X = df_dummies[['start_high_Yes', 'maxspeed_60', 'maxspeed_80',\n",
    "       'steepest_angle_75', 'seats_car_4', 'drop_200', 'drop_300',\n",
    "       'track_color_green', 'track_color_red', 'track_color_white']]\n",
    "\n",
    "y = df_dummies[['avg_rating']]\n",
    "\n",
    "from sklearn.linear_model import LinearRegression\n",
    "from sklearn import metrics\n",
    "\n",
    "# Initialize and fit the Linear Regression model\n",
    "regressor = LinearRegression()\n",
    "regressor.fit(X, y)\n",
    "\n",
    "LinearRegression()"
   ]
  },
  {
   "cell_type": "code",
   "execution_count": null,
   "metadata": {},
   "outputs": [],
   "source": []
  },
  {
   "cell_type": "markdown",
   "metadata": {},
   "source": [
    "### Coefficient values of the model inputs. "
   ]
  },
  {
   "cell_type": "code",
   "execution_count": 14,
   "metadata": {},
   "outputs": [
    {
     "data": {
      "text/html": [
       "<div>\n",
       "<style scoped>\n",
       "    .dataframe tbody tr th:only-of-type {\n",
       "        vertical-align: middle;\n",
       "    }\n",
       "\n",
       "    .dataframe tbody tr th {\n",
       "        vertical-align: top;\n",
       "    }\n",
       "\n",
       "    .dataframe thead th {\n",
       "        text-align: right;\n",
       "    }\n",
       "</style>\n",
       "<table border=\"1\" class=\"dataframe\">\n",
       "  <thead>\n",
       "    <tr style=\"text-align: right;\">\n",
       "      <th></th>\n",
       "      <th>Coefficient</th>\n",
       "    </tr>\n",
       "  </thead>\n",
       "  <tbody>\n",
       "    <tr>\n",
       "      <th>start_high_Yes</th>\n",
       "      <td>1.097222</td>\n",
       "    </tr>\n",
       "    <tr>\n",
       "      <th>maxspeed_60</th>\n",
       "      <td>1.625000</td>\n",
       "    </tr>\n",
       "    <tr>\n",
       "      <th>maxspeed_80</th>\n",
       "      <td>1.437500</td>\n",
       "    </tr>\n",
       "    <tr>\n",
       "      <th>steepest_angle_75</th>\n",
       "      <td>-0.486111</td>\n",
       "    </tr>\n",
       "    <tr>\n",
       "      <th>seats_car_4</th>\n",
       "      <td>-0.430556</td>\n",
       "    </tr>\n",
       "    <tr>\n",
       "      <th>drop_200</th>\n",
       "      <td>1.052083</td>\n",
       "    </tr>\n",
       "    <tr>\n",
       "      <th>drop_300</th>\n",
       "      <td>1.197917</td>\n",
       "    </tr>\n",
       "    <tr>\n",
       "      <th>track_color_green</th>\n",
       "      <td>-0.083333</td>\n",
       "    </tr>\n",
       "    <tr>\n",
       "      <th>track_color_red</th>\n",
       "      <td>1.777778</td>\n",
       "    </tr>\n",
       "    <tr>\n",
       "      <th>track_color_white</th>\n",
       "      <td>-0.166667</td>\n",
       "    </tr>\n",
       "  </tbody>\n",
       "</table>\n",
       "</div>"
      ],
      "text/plain": [
       "                   Coefficient\n",
       "start_high_Yes        1.097222\n",
       "maxspeed_60           1.625000\n",
       "maxspeed_80           1.437500\n",
       "steepest_angle_75    -0.486111\n",
       "seats_car_4          -0.430556\n",
       "drop_200              1.052083\n",
       "drop_300              1.197917\n",
       "track_color_green    -0.083333\n",
       "track_color_red       1.777778\n",
       "track_color_white    -0.166667"
      ]
     },
     "execution_count": 14,
     "metadata": {},
     "output_type": "execute_result"
    }
   ],
   "source": [
    "# Coefficients of the regression model\n",
    "coef = regressor.coef_.flatten()  # Flatten to 1D array if necessary\n",
    "# Create a DataFrame to display coefficients\n",
    "# Note: We use .flatten() to convert the array from 2D to 1D.\n",
    "coef_df = pd.DataFrame(coef, X.columns, columns=['Coefficient'])\n",
    "\n",
    "coef_df"
   ]
  },
  {
   "cell_type": "code",
   "execution_count": 15,
   "metadata": {},
   "outputs": [
    {
     "name": "stdout",
     "output_type": "stream",
     "text": [
      "                            OLS Regression Results                            \n",
      "==============================================================================\n",
      "Dep. Variable:             avg_rating   R-squared:                       0.460\n",
      "Model:                            OLS   Adj. R-squared:                  0.440\n",
      "Method:                 Least Squares   F-statistic:                     23.58\n",
      "Date:                Mon, 03 Mar 2025   Prob (F-statistic):           6.89e-32\n",
      "Time:                        11:31:46   Log-Likelihood:                -522.06\n",
      "No. Observations:                 288   AIC:                             1066.\n",
      "Df Residuals:                     277   BIC:                             1106.\n",
      "Df Model:                          10                                         \n",
      "Covariance Type:            nonrobust                                         \n",
      "=====================================================================================\n",
      "                        coef    std err          t      P>|t|      [0.025      0.975]\n",
      "-------------------------------------------------------------------------------------\n",
      "const                 3.4028      0.295     11.518      0.000       2.821       3.984\n",
      "start_high_Yes        1.0972      0.178      6.159      0.000       0.747       1.448\n",
      "maxspeed_60           1.6250      0.218      7.447      0.000       1.195       2.055\n",
      "maxspeed_80           1.4375      0.218      6.588      0.000       1.008       1.867\n",
      "steepest_angle_75    -0.4861      0.178     -2.729      0.007      -0.837      -0.135\n",
      "seats_car_4          -0.4306      0.178     -2.417      0.016      -0.781      -0.080\n",
      "drop_200              1.0521      0.218      4.822      0.000       0.623       1.482\n",
      "drop_300              1.1979      0.218      5.490      0.000       0.768       1.627\n",
      "track_color_green    -0.0833      0.252     -0.331      0.741      -0.579       0.413\n",
      "track_color_red       1.7778      0.252      7.056      0.000       1.282       2.274\n",
      "track_color_white    -0.1667      0.252     -0.662      0.509      -0.663       0.329\n",
      "==============================================================================\n",
      "Omnibus:                        2.914   Durbin-Watson:                   2.117\n",
      "Prob(Omnibus):                  0.233   Jarque-Bera (JB):                2.473\n",
      "Skew:                          -0.122   Prob(JB):                        0.290\n",
      "Kurtosis:                       2.617   Cond. No.                         7.43\n",
      "==============================================================================\n",
      "\n",
      "Notes:\n",
      "[1] Standard Errors assume that the covariance matrix of the errors is correctly specified.\n"
     ]
    }
   ],
   "source": [
    "import statsmodels.api as sm\n",
    "\n",
    "\n",
    "# Add a constant to the model (intercept)\n",
    "X = sm.add_constant(X)\n",
    "\n",
    "# Fit the model using statsmodels\n",
    "model = sm.OLS(y, X).fit()\n",
    "\n",
    "# Summary of regression including p-values\n",
    "summary = model.summary()\n",
    "print(summary)"
   ]
  },
  {
   "cell_type": "markdown",
   "metadata": {},
   "source": [
    "<b>RESULT:</b><br><br>\n",
    "<b>*Model Summary*</b><br>\n",
    " * R-squared (0.460): 46% of the variance in the dependent variable (avg_rating). While this is not extremely high, it indicates a moderate fit.\n",
    " * Adj. R-squared (0.440): Adjusted R-squared accounts for the number of predictors in the model and penalizes for overfitting. It’s slightly lower than R-squared, which is expected.\n",
    " * F-statistic (23.58, p-value = 6.89e-32): The F-statistic tests whether the overall model is statistically significant. Since the p-value is nearly zero, the model is statistically significant, meaning at least one of the predictors has a meaningful relationship with avg_rating.\n",
    " \n",
    "<b>*Coefficients*</b><br>\n",
    "The coefficients tells the effect of each independent variable on the dependent variable (avg_rating), holding other variables constant. Let’s analyze them:\n",
    "\n",
    "<b>Significant Variables (p-value < 0.05):</b>\n",
    "    \n",
    "1. start_high_Yes (1.0972):\n",
    "\n",
    "* Positive coefficient: If start_high is \"Yes,\" the avg_rating increases by 1.10 units on average.\n",
    "* Highly significant (p-value < 0.0001).\n",
    "\n",
    "2. maxspeed_60 (1.6250) and maxspeed_80 (1.4375):\n",
    "\n",
    "* Positive coefficients: Both higher maxspeed levels are associated with higher avg_rating. For example, maxspeed_60 increases avg_rating by 1.63 units, and maxspeed_80 increases it by 1.44 units.<br>\n",
    "* Both are highly significant (p-value < 0.0001).\n",
    "\n",
    "3. steepest_angle_75 (-0.4861):\n",
    "\n",
    "* Negative coefficient: If the steepest angle is 75, the avg_rating decreases by 0.49 units on average.<br>\n",
    "* Significant (p-value = 0.007).\n",
    "\n",
    "4. seats_car_4 (-0.4306):\n",
    "\n",
    "* Negative coefficient: If the car has 4 seats, avg_rating decreases by 0.43 units on average.<br>\n",
    "* Significant (p-value = 0.016).\n",
    "\n",
    "5. drop_200 (1.0521) and drop_300 (1.1979):\n",
    "\n",
    "* Positive coefficients: Both drop heights are associated with higher avg_rating. For example, drop_200 increases avg_rating by 1.05 units, and drop_300 increases it by 1.20 units.<br>\n",
    "* Both are highly significant (p-value < 0.0001).\n",
    "\n",
    "6. track_color_red (1.7778):\n",
    "\n",
    "* Positive coefficient: If the track color is red, avg_rating increases by 1.78 units on average.<br>\n",
    "* Highly significant (p-value < 0.0001).\n",
    "                                        \n",
    "<b>Non-Significant Variables (p-value > 0.05):</br>\n",
    "\n",
    "1. track_color_green (-0.0833):\n",
    "\n",
    "* The coefficient suggests a slight negative effect, but it is not statistically significant (p-value = 0.741).\n",
    "\n",
    "2. track_color_white (-0.1667):\n",
    "\n",
    "* The coefficient suggests a slight negative effect, but it is not statistically significant (p-value = 0.509).\n",
    "\n",
    "<b>*Interpretation*</b>\n",
    "\n",
    "**Key Drivers of avg_rating:**\n",
    "\n",
    "* The most significant predictors are: start_high_Yes, maxspeed_60, maxspeed_80, drop_200, drop_300, and track_color_red. These variables positively influence avg_rating.\n",
    "\n",
    "* steepest_angle_75 and seats_car_4 have negative effects, meaning these features reduce avg_rating.\n",
    "\n",
    "**Track Colors (track_color_green and track_color_white):**\n",
    "\n",
    "* These variables are not statistically significant, so their effect on avg_rating is likely negligible.\n",
    "\n",
    "***CONCLUSION***<BR>\n",
    "One important factor is that the multiple R-squared value for this model is only 0.472.\n",
    "\n",
    "This means that 47.2% of the variation in the average rating is explained by the variables in this model.\n",
    "This also means that 100%-47.2% = 52.8% of the variation in the average rating is not explained by the variables in this model.\n",
    "This is more than half of the variation in the average rating that is not explained by this model.\n",
    "This indicates that more variables should be collected that may increase this percentage of variation explained.\n",
    "\n",
    "-- Overall we cannot place a lot of trust in the model with such a low percentage."
   ]
  },
  {
   "cell_type": "code",
   "execution_count": null,
   "metadata": {},
   "outputs": [],
   "source": []
  }
 ],
 "metadata": {
  "colab": {
   "provenance": [],
   "toc_visible": true
  },
  "kernelspec": {
   "display_name": "Python 3 (ipykernel)",
   "language": "python",
   "name": "python3"
  },
  "language_info": {
   "codemirror_mode": {
    "name": "ipython",
    "version": 3
   },
   "file_extension": ".py",
   "mimetype": "text/x-python",
   "name": "python",
   "nbconvert_exporter": "python",
   "pygments_lexer": "ipython3",
   "version": "3.11.5"
  }
 },
 "nbformat": 4,
 "nbformat_minor": 4
}
